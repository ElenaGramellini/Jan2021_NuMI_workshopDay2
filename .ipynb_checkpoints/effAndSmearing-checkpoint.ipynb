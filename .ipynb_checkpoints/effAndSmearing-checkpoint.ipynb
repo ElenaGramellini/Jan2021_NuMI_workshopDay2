{
 "cells": [
  {
   "cell_type": "markdown",
   "metadata": {},
   "source": [
    "## setup "
   ]
  },
  {
   "cell_type": "code",
   "execution_count": 1,
   "metadata": {},
   "outputs": [],
   "source": [
    "import sys\n",
    "from scipy.stats import norm\n",
    "from matplotlib.colors import LogNorm\n",
    "\n",
    "import importlib\n",
    "import uproot\n",
    "import numpy as np\n",
    "import math\n",
    "import matplotlib.pyplot as plt\n",
    "\n",
    "import pandas as pd\n",
    "\n",
    "import awkward\n",
    "\n",
    "# calculations & plotting functions ported to backend script for readability \n",
    "import smear_plotter"
   ]
  },
  {
   "cell_type": "code",
   "execution_count": 2,
   "metadata": {},
   "outputs": [],
   "source": [
    "importlib.reload(smear_plotter)\n",
    "from smear_plotter import *"
   ]
  },
  {
   "cell_type": "code",
   "execution_count": 3,
   "metadata": {},
   "outputs": [],
   "source": [
    "# grab NuMI FHC reduced ntuples with nue preselection applied: \n",
    "# slice ID, containment, & michel electron veto\n",
    "\n",
    "fold = \"nuselection\"\n",
    "tree = \"NeutrinoSelectionFilter\"\n",
    "\n",
    "path = '/Users/elenag/Desktop/PlotterLEE/root_files/test/'\n",
    "FHC_OVRLY = 'prodgenie_numi_uboone_overlay_fhc_mcc9_run1_v28_all_snapshot'\n",
    "\n",
    "overlay = uproot.open(path+FHC_OVRLY+\".root\")[fold][tree]"
   ]
  },
  {
   "cell_type": "code",
   "execution_count": 4,
   "metadata": {},
   "outputs": [],
   "source": [
    "# create pandas dataframe \n",
    "\n",
    "variables = [\n",
    "    \"selected\", \"nu_pdg\", \"shr_theta\", \"true_e_visible\", \n",
    "    \"trk_score_v\", \"shr_tkfit_dedx_Y\", \"ccnc\", \"n_tracks_contained\", \n",
    "    \"reco_nu_vtx_sce_x\",\"reco_nu_vtx_sce_y\",\"reco_nu_vtx_sce_z\",\n",
    "    \"shr_tkfit_npointsvalid\",\"shr_tkfit_npoints\",\n",
    "    \"nproton\", \"nu_e\", \"n_showers_contained\", \"nu_purity_from_pfp\", \n",
    "    \"shr_score\", \n",
    "    \"trk_energy\", \"tksh_distance\", \"tksh_angle\",\n",
    "    \"npi0\", \"topological_score\",\n",
    "    \"reco_nu_vtx_x\", \"reco_nu_vtx_y\", \"reco_nu_vtx_z\", \"contained_fraction\",\n",
    "    \"shrsubclusters0\", \"shrsubclusters1\", \"shrsubclusters2\",\n",
    "    \"true_nu_vtx_x\", \"true_nu_vtx_y\" , \"true_nu_vtx_z\", \n",
    "    \"npion\", \"shr_energy_cali\", \n",
    "    \"flash_time\", \"shrmoliereavg\", \n",
    "    \"shr_tkfit_npointsvalid\",\"shr_tkfit_npoints\", \"elec_e\"\n",
    "]\n",
    "\n",
    "overlay_df = overlay.pandas.df(variables, flatten=False)\n"
   ]
  },
  {
   "cell_type": "code",
   "execution_count": 5,
   "metadata": {},
   "outputs": [],
   "source": [
    "# manually calculate track PID score \n",
    "overlay_df = track_PID_score(overlay, overlay_df)"
   ]
  },
  {
   "cell_type": "code",
   "execution_count": 6,
   "metadata": {},
   "outputs": [
    {
     "data": {
      "text/html": [
       "<div>\n",
       "<style scoped>\n",
       "    .dataframe tbody tr th:only-of-type {\n",
       "        vertical-align: middle;\n",
       "    }\n",
       "\n",
       "    .dataframe tbody tr th {\n",
       "        vertical-align: top;\n",
       "    }\n",
       "\n",
       "    .dataframe thead th {\n",
       "        text-align: right;\n",
       "    }\n",
       "</style>\n",
       "<table border=\"1\" class=\"dataframe\">\n",
       "  <thead>\n",
       "    <tr style=\"text-align: right;\">\n",
       "      <th></th>\n",
       "      <th>selected</th>\n",
       "      <th>nu_pdg</th>\n",
       "      <th>shr_theta</th>\n",
       "      <th>true_e_visible</th>\n",
       "      <th>trk_score_v</th>\n",
       "      <th>shr_tkfit_dedx_Y</th>\n",
       "      <th>ccnc</th>\n",
       "      <th>n_tracks_contained</th>\n",
       "      <th>reco_nu_vtx_sce_x</th>\n",
       "      <th>reco_nu_vtx_sce_y</th>\n",
       "      <th>...</th>\n",
       "      <th>true_nu_vtx_y</th>\n",
       "      <th>true_nu_vtx_z</th>\n",
       "      <th>npion</th>\n",
       "      <th>shr_energy_cali</th>\n",
       "      <th>flash_time</th>\n",
       "      <th>shrmoliereavg</th>\n",
       "      <th>shr_tkfit_npointsvalid</th>\n",
       "      <th>shr_tkfit_npoints</th>\n",
       "      <th>elec_e</th>\n",
       "      <th>trkpid</th>\n",
       "    </tr>\n",
       "    <tr>\n",
       "      <th>entry</th>\n",
       "      <th></th>\n",
       "      <th></th>\n",
       "      <th></th>\n",
       "      <th></th>\n",
       "      <th></th>\n",
       "      <th></th>\n",
       "      <th></th>\n",
       "      <th></th>\n",
       "      <th></th>\n",
       "      <th></th>\n",
       "      <th></th>\n",
       "      <th></th>\n",
       "      <th></th>\n",
       "      <th></th>\n",
       "      <th></th>\n",
       "      <th></th>\n",
       "      <th></th>\n",
       "      <th></th>\n",
       "      <th></th>\n",
       "      <th></th>\n",
       "      <th></th>\n",
       "    </tr>\n",
       "  </thead>\n",
       "  <tbody>\n",
       "    <tr>\n",
       "      <th>0</th>\n",
       "      <td>1</td>\n",
       "      <td>14</td>\n",
       "      <td>1.778331</td>\n",
       "      <td>0.555499</td>\n",
       "      <td>[0.013178393, 0.9346445, 0.9606818, 0.16331574]</td>\n",
       "      <td>1.981256e+00</td>\n",
       "      <td>0</td>\n",
       "      <td>2</td>\n",
       "      <td>150.003784</td>\n",
       "      <td>80.957451</td>\n",
       "      <td>...</td>\n",
       "      <td>80.872223</td>\n",
       "      <td>403.011414</td>\n",
       "      <td>0</td>\n",
       "      <td>0.178692</td>\n",
       "      <td>13.186250</td>\n",
       "      <td>23.938427</td>\n",
       "      <td>8</td>\n",
       "      <td>438</td>\n",
       "      <td>0.000000</td>\n",
       "      <td>-0.819437</td>\n",
       "    </tr>\n",
       "    <tr>\n",
       "      <th>1</th>\n",
       "      <td>1</td>\n",
       "      <td>14</td>\n",
       "      <td>1.311184</td>\n",
       "      <td>1.896282</td>\n",
       "      <td>[0.9108349, 0.45338693, 0.94899696]</td>\n",
       "      <td>2.408056e+00</td>\n",
       "      <td>1</td>\n",
       "      <td>2</td>\n",
       "      <td>36.357746</td>\n",
       "      <td>-64.840393</td>\n",
       "      <td>...</td>\n",
       "      <td>-64.928223</td>\n",
       "      <td>598.648438</td>\n",
       "      <td>1</td>\n",
       "      <td>0.023165</td>\n",
       "      <td>14.675625</td>\n",
       "      <td>7.809792</td>\n",
       "      <td>30</td>\n",
       "      <td>39</td>\n",
       "      <td>0.000000</td>\n",
       "      <td>0.661361</td>\n",
       "    </tr>\n",
       "    <tr>\n",
       "      <th>2</th>\n",
       "      <td>1</td>\n",
       "      <td>-12</td>\n",
       "      <td>0.431170</td>\n",
       "      <td>1.729290</td>\n",
       "      <td>[0.0006027788]</td>\n",
       "      <td>2.012771e+00</td>\n",
       "      <td>0</td>\n",
       "      <td>0</td>\n",
       "      <td>239.857178</td>\n",
       "      <td>85.669067</td>\n",
       "      <td>...</td>\n",
       "      <td>85.903969</td>\n",
       "      <td>264.578766</td>\n",
       "      <td>0</td>\n",
       "      <td>0.902644</td>\n",
       "      <td>7.396250</td>\n",
       "      <td>6.447573</td>\n",
       "      <td>257</td>\n",
       "      <td>1262</td>\n",
       "      <td>1.212335</td>\n",
       "      <td>9999.000000</td>\n",
       "    </tr>\n",
       "    <tr>\n",
       "      <th>3</th>\n",
       "      <td>1</td>\n",
       "      <td>14</td>\n",
       "      <td>0.632631</td>\n",
       "      <td>2.499896</td>\n",
       "      <td>[0.027953658, 1.0, 0.9467965, 0.0523055, 0.042...</td>\n",
       "      <td>2.410783e+00</td>\n",
       "      <td>0</td>\n",
       "      <td>2</td>\n",
       "      <td>70.654068</td>\n",
       "      <td>14.182227</td>\n",
       "      <td>...</td>\n",
       "      <td>14.328859</td>\n",
       "      <td>403.186523</td>\n",
       "      <td>0</td>\n",
       "      <td>0.622351</td>\n",
       "      <td>13.501875</td>\n",
       "      <td>7.959075</td>\n",
       "      <td>389</td>\n",
       "      <td>1240</td>\n",
       "      <td>0.000000</td>\n",
       "      <td>0.906885</td>\n",
       "    </tr>\n",
       "    <tr>\n",
       "      <th>4</th>\n",
       "      <td>1</td>\n",
       "      <td>12</td>\n",
       "      <td>1.323045</td>\n",
       "      <td>0.804216</td>\n",
       "      <td>[0.9538211, 0.9679868, 0.13909091, 0.94464743]</td>\n",
       "      <td>2.008484e+00</td>\n",
       "      <td>0</td>\n",
       "      <td>3</td>\n",
       "      <td>109.253372</td>\n",
       "      <td>42.578449</td>\n",
       "      <td>...</td>\n",
       "      <td>36.018669</td>\n",
       "      <td>854.128357</td>\n",
       "      <td>1</td>\n",
       "      <td>0.195550</td>\n",
       "      <td>12.558750</td>\n",
       "      <td>11.795969</td>\n",
       "      <td>34</td>\n",
       "      <td>349</td>\n",
       "      <td>0.219212</td>\n",
       "      <td>-0.863078</td>\n",
       "    </tr>\n",
       "    <tr>\n",
       "      <th>...</th>\n",
       "      <td>...</td>\n",
       "      <td>...</td>\n",
       "      <td>...</td>\n",
       "      <td>...</td>\n",
       "      <td>...</td>\n",
       "      <td>...</td>\n",
       "      <td>...</td>\n",
       "      <td>...</td>\n",
       "      <td>...</td>\n",
       "      <td>...</td>\n",
       "      <td>...</td>\n",
       "      <td>...</td>\n",
       "      <td>...</td>\n",
       "      <td>...</td>\n",
       "      <td>...</td>\n",
       "      <td>...</td>\n",
       "      <td>...</td>\n",
       "      <td>...</td>\n",
       "      <td>...</td>\n",
       "      <td>...</td>\n",
       "      <td>...</td>\n",
       "    </tr>\n",
       "    <tr>\n",
       "      <th>46810</th>\n",
       "      <td>1</td>\n",
       "      <td>14</td>\n",
       "      <td>0.169509</td>\n",
       "      <td>3.733200</td>\n",
       "      <td>[0.17132743, 0.15016647, 0.78662187]</td>\n",
       "      <td>1.610492e+00</td>\n",
       "      <td>1</td>\n",
       "      <td>1</td>\n",
       "      <td>57.336361</td>\n",
       "      <td>2.509312</td>\n",
       "      <td>...</td>\n",
       "      <td>1.528720</td>\n",
       "      <td>825.205688</td>\n",
       "      <td>0</td>\n",
       "      <td>1.410375</td>\n",
       "      <td>12.946250</td>\n",
       "      <td>18.712778</td>\n",
       "      <td>8</td>\n",
       "      <td>2108</td>\n",
       "      <td>0.000000</td>\n",
       "      <td>-0.296678</td>\n",
       "    </tr>\n",
       "    <tr>\n",
       "      <th>46811</th>\n",
       "      <td>1</td>\n",
       "      <td>-14</td>\n",
       "      <td>0.523281</td>\n",
       "      <td>2.028591</td>\n",
       "      <td>[1.0, 0.09560521, 0.12846087, 0.009099999, 0.0...</td>\n",
       "      <td>1.735475e+00</td>\n",
       "      <td>0</td>\n",
       "      <td>1</td>\n",
       "      <td>163.719147</td>\n",
       "      <td>72.524330</td>\n",
       "      <td>...</td>\n",
       "      <td>80.463623</td>\n",
       "      <td>758.378296</td>\n",
       "      <td>2</td>\n",
       "      <td>0.650627</td>\n",
       "      <td>13.684375</td>\n",
       "      <td>12.064058</td>\n",
       "      <td>22</td>\n",
       "      <td>78</td>\n",
       "      <td>0.000000</td>\n",
       "      <td>0.974239</td>\n",
       "    </tr>\n",
       "    <tr>\n",
       "      <th>46812</th>\n",
       "      <td>1</td>\n",
       "      <td>14</td>\n",
       "      <td>1.381422</td>\n",
       "      <td>0.894587</td>\n",
       "      <td>[0.9460351, 0.1035448, 0.72438586, 0.5656786, ...</td>\n",
       "      <td>-3.402823e+38</td>\n",
       "      <td>0</td>\n",
       "      <td>5</td>\n",
       "      <td>33.086395</td>\n",
       "      <td>65.099510</td>\n",
       "      <td>...</td>\n",
       "      <td>64.578484</td>\n",
       "      <td>50.096333</td>\n",
       "      <td>3</td>\n",
       "      <td>0.099103</td>\n",
       "      <td>11.583125</td>\n",
       "      <td>10.237070</td>\n",
       "      <td>5</td>\n",
       "      <td>163</td>\n",
       "      <td>0.000000</td>\n",
       "      <td>-0.747803</td>\n",
       "    </tr>\n",
       "    <tr>\n",
       "      <th>46813</th>\n",
       "      <td>1</td>\n",
       "      <td>14</td>\n",
       "      <td>1.850260</td>\n",
       "      <td>1.623019</td>\n",
       "      <td>[1.0, 0.0056803394, 0.08460715, 0.59094507, 0....</td>\n",
       "      <td>2.916902e+00</td>\n",
       "      <td>0</td>\n",
       "      <td>3</td>\n",
       "      <td>221.249008</td>\n",
       "      <td>-9.234318</td>\n",
       "      <td>...</td>\n",
       "      <td>-8.801228</td>\n",
       "      <td>188.822052</td>\n",
       "      <td>1</td>\n",
       "      <td>0.263675</td>\n",
       "      <td>10.683125</td>\n",
       "      <td>18.250576</td>\n",
       "      <td>118</td>\n",
       "      <td>580</td>\n",
       "      <td>0.000000</td>\n",
       "      <td>0.982572</td>\n",
       "    </tr>\n",
       "    <tr>\n",
       "      <th>46814</th>\n",
       "      <td>1</td>\n",
       "      <td>-14</td>\n",
       "      <td>1.048964</td>\n",
       "      <td>2.315511</td>\n",
       "      <td>[0.034102786, 0.08651647, 0.49835193, 0.06482802]</td>\n",
       "      <td>2.534000e+00</td>\n",
       "      <td>0</td>\n",
       "      <td>0</td>\n",
       "      <td>9.065458</td>\n",
       "      <td>89.721626</td>\n",
       "      <td>...</td>\n",
       "      <td>118.600182</td>\n",
       "      <td>244.285782</td>\n",
       "      <td>0</td>\n",
       "      <td>0.126612</td>\n",
       "      <td>9.586250</td>\n",
       "      <td>11.640006</td>\n",
       "      <td>40</td>\n",
       "      <td>289</td>\n",
       "      <td>0.000000</td>\n",
       "      <td>9999.000000</td>\n",
       "    </tr>\n",
       "  </tbody>\n",
       "</table>\n",
       "<p>46815 rows × 41 columns</p>\n",
       "</div>"
      ],
      "text/plain": [
       "       selected  nu_pdg  shr_theta  true_e_visible  \\\n",
       "entry                                                \n",
       "0             1      14   1.778331        0.555499   \n",
       "1             1      14   1.311184        1.896282   \n",
       "2             1     -12   0.431170        1.729290   \n",
       "3             1      14   0.632631        2.499896   \n",
       "4             1      12   1.323045        0.804216   \n",
       "...         ...     ...        ...             ...   \n",
       "46810         1      14   0.169509        3.733200   \n",
       "46811         1     -14   0.523281        2.028591   \n",
       "46812         1      14   1.381422        0.894587   \n",
       "46813         1      14   1.850260        1.623019   \n",
       "46814         1     -14   1.048964        2.315511   \n",
       "\n",
       "                                             trk_score_v  shr_tkfit_dedx_Y  \\\n",
       "entry                                                                        \n",
       "0        [0.013178393, 0.9346445, 0.9606818, 0.16331574]      1.981256e+00   \n",
       "1                    [0.9108349, 0.45338693, 0.94899696]      2.408056e+00   \n",
       "2                                         [0.0006027788]      2.012771e+00   \n",
       "3      [0.027953658, 1.0, 0.9467965, 0.0523055, 0.042...      2.410783e+00   \n",
       "4         [0.9538211, 0.9679868, 0.13909091, 0.94464743]      2.008484e+00   \n",
       "...                                                  ...               ...   \n",
       "46810               [0.17132743, 0.15016647, 0.78662187]      1.610492e+00   \n",
       "46811  [1.0, 0.09560521, 0.12846087, 0.009099999, 0.0...      1.735475e+00   \n",
       "46812  [0.9460351, 0.1035448, 0.72438586, 0.5656786, ...     -3.402823e+38   \n",
       "46813  [1.0, 0.0056803394, 0.08460715, 0.59094507, 0....      2.916902e+00   \n",
       "46814  [0.034102786, 0.08651647, 0.49835193, 0.06482802]      2.534000e+00   \n",
       "\n",
       "       ccnc  n_tracks_contained  reco_nu_vtx_sce_x  reco_nu_vtx_sce_y  ...  \\\n",
       "entry                                                                  ...   \n",
       "0         0                   2         150.003784          80.957451  ...   \n",
       "1         1                   2          36.357746         -64.840393  ...   \n",
       "2         0                   0         239.857178          85.669067  ...   \n",
       "3         0                   2          70.654068          14.182227  ...   \n",
       "4         0                   3         109.253372          42.578449  ...   \n",
       "...     ...                 ...                ...                ...  ...   \n",
       "46810     1                   1          57.336361           2.509312  ...   \n",
       "46811     0                   1         163.719147          72.524330  ...   \n",
       "46812     0                   5          33.086395          65.099510  ...   \n",
       "46813     0                   3         221.249008          -9.234318  ...   \n",
       "46814     0                   0           9.065458          89.721626  ...   \n",
       "\n",
       "       true_nu_vtx_y  true_nu_vtx_z  npion  shr_energy_cali  flash_time  \\\n",
       "entry                                                                     \n",
       "0          80.872223     403.011414      0         0.178692   13.186250   \n",
       "1         -64.928223     598.648438      1         0.023165   14.675625   \n",
       "2          85.903969     264.578766      0         0.902644    7.396250   \n",
       "3          14.328859     403.186523      0         0.622351   13.501875   \n",
       "4          36.018669     854.128357      1         0.195550   12.558750   \n",
       "...              ...            ...    ...              ...         ...   \n",
       "46810       1.528720     825.205688      0         1.410375   12.946250   \n",
       "46811      80.463623     758.378296      2         0.650627   13.684375   \n",
       "46812      64.578484      50.096333      3         0.099103   11.583125   \n",
       "46813      -8.801228     188.822052      1         0.263675   10.683125   \n",
       "46814     118.600182     244.285782      0         0.126612    9.586250   \n",
       "\n",
       "       shrmoliereavg  shr_tkfit_npointsvalid  shr_tkfit_npoints    elec_e  \\\n",
       "entry                                                                       \n",
       "0          23.938427                       8                438  0.000000   \n",
       "1           7.809792                      30                 39  0.000000   \n",
       "2           6.447573                     257               1262  1.212335   \n",
       "3           7.959075                     389               1240  0.000000   \n",
       "4          11.795969                      34                349  0.219212   \n",
       "...              ...                     ...                ...       ...   \n",
       "46810      18.712778                       8               2108  0.000000   \n",
       "46811      12.064058                      22                 78  0.000000   \n",
       "46812      10.237070                       5                163  0.000000   \n",
       "46813      18.250576                     118                580  0.000000   \n",
       "46814      11.640006                      40                289  0.000000   \n",
       "\n",
       "            trkpid  \n",
       "entry               \n",
       "0        -0.819437  \n",
       "1         0.661361  \n",
       "2      9999.000000  \n",
       "3         0.906885  \n",
       "4        -0.863078  \n",
       "...            ...  \n",
       "46810    -0.296678  \n",
       "46811     0.974239  \n",
       "46812    -0.747803  \n",
       "46813     0.982572  \n",
       "46814  9999.000000  \n",
       "\n",
       "[46815 rows x 41 columns]"
      ]
     },
     "execution_count": 6,
     "metadata": {},
     "output_type": "execute_result"
    }
   ],
   "source": [
    "# what does a pandas dataframe look like? \n",
    "overlay_df"
   ]
  },
  {
   "cell_type": "markdown",
   "metadata": {},
   "source": [
    "## define signal & apply selection "
   ]
  },
  {
   "cell_type": "code",
   "execution_count": 7,
   "metadata": {},
   "outputs": [],
   "source": [
    "# define fiducial volume (FV)\n",
    "true_in_fv_query = \"10<=true_nu_vtx_x<=246 and -106<=true_nu_vtx_y<=106 and 10<=true_nu_vtx_z<=1026\"\n",
    "reco_in_fv_query = \"10<=reco_nu_vtx_sce_x<=246 and -106<=reco_nu_vtx_sce_y<=106 and 10<=reco_nu_vtx_sce_z<=1026\""
   ]
  },
  {
   "cell_type": "code",
   "execution_count": 8,
   "metadata": {},
   "outputs": [],
   "source": [
    "# define signal query \n",
    "signal = '(nu_pdg==12 and ccnc==0 and nproton>0 and npion==0 and npi0==0)'"
   ]
  },
  {
   "cell_type": "code",
   "execution_count": 9,
   "metadata": {},
   "outputs": [],
   "source": [
    "# exclusive electron neutrino selection (CCNp)\n",
    "\n",
    "# FV cut \n",
    "SEL_QUERY = reco_in_fv_query\n",
    "\n",
    "# signal topology: 1eNp \n",
    "SEL_QUERY += ' and n_showers_contained==1'\n",
    "SEL_QUERY += ' and n_tracks_contained>0'\n",
    "\n",
    "# numu CC rejection \n",
    "SEL_QUERY += ' and shr_score<0.125'\n",
    "SEL_QUERY += ' and shrmoliereavg < 8'\n",
    "SEL_QUERY += ' and trkpid<0'\n",
    "\n",
    "# pi0 rejection \n",
    "SEL_QUERY += ' and shr_tkfit_dedx_Y<4'\n",
    "SEL_QUERY += ' and tksh_distance<5'"
   ]
  },
  {
   "cell_type": "code",
   "execution_count": 10,
   "metadata": {},
   "outputs": [],
   "source": [
    "selected = overlay_df.query(SEL_QUERY)"
   ]
  },
  {
   "cell_type": "code",
   "execution_count": 11,
   "metadata": {},
   "outputs": [
    {
     "name": "stdout",
     "output_type": "stream",
     "text": [
      "603 signal events were selected\n"
     ]
    }
   ],
   "source": [
    "# number of selected signal events \n",
    "print(str(len(selected.query(signal)))+' signal events were selected')"
   ]
  },
  {
   "cell_type": "markdown",
   "metadata": {},
   "source": [
    "## choose a binning / check efficiency "
   ]
  },
  {
   "cell_type": "code",
   "execution_count": 12,
   "metadata": {},
   "outputs": [],
   "source": [
    "# true electron energy \n",
    "true_var = 'elec_e'\n",
    "\n",
    "# reconstructed shower energy \n",
    "reco_var = 'shr_energy_cali'"
   ]
  },
  {
   "cell_type": "code",
   "execution_count": 13,
   "metadata": {},
   "outputs": [
    {
     "name": "stdout",
     "output_type": "stream",
     "text": [
      "mu == 0.261\n",
      "sigma == 0.195\n"
     ]
    },
    {
     "data": {
      "image/png": "[encoded data removed]",
      "text/plain": [
       "<Figure size 576x360 with 1 Axes>"
      ]
     },
     "metadata": {
      "needs_background": "light"
     },
     "output_type": "display_data"
    }
   ],
   "source": [
    "# compute detector resolution of signal events\n",
    "det_res = np.array((selected.query(signal)[true_var]-selected.query(signal)[reco_var]))\n",
    "det_res = det_res/selected.query(signal)[true_var]\n",
    "\n",
    "# compute variance to determine spread \n",
    "mu = sum(det_res) / len(det_res) \n",
    "sigma = (sum([((x - mu) ** 2) for x in det_res]) / len(det_res))**0.5\n",
    "\n",
    "print('mu == '+str(round(mu, 3)))\n",
    "print('sigma == '+str(round(sigma, 3)))\n",
    "\n",
    "# plot \n",
    "plot_det_res(det_res, mu, sigma)\n",
    "\n",
    "# NOTE: sigma is the smallest bin width we can have"
   ]
  },
  {
   "cell_type": "code",
   "execution_count": 14,
   "metadata": {},
   "outputs": [
    {
     "data": {
      "image/png": "[encoded data removed]",
      "text/plain": [
       "<Figure size 576x360 with 2 Axes>"
      ]
     },
     "metadata": {
      "needs_background": "light"
     },
     "output_type": "display_data"
    }
   ],
   "source": [
    "# first let's try a constant bin size \n",
    "\n",
    "bins = [0.05, 0.25, 0.45, 0.65, 0.85, 1.05, 1.25, 1.45, 1.65, 1.85, 2.05, 2.25, 2.45, 2.65, 2.85, 3.05]\n",
    "\n",
    "plot_signal_and_eff(selected, overlay_df, signal, bins)\n",
    "\n",
    "# NOTE: this efficiency is relative to the number of signal events passing our preselection \n",
    "# (since we are using the reduced ntuples)"
   ]
  },
  {
   "cell_type": "code",
   "execution_count": 15,
   "metadata": {},
   "outputs": [
    {
     "data": {
      "image/png": "[encoded data removed]",
      "text/plain": [
       "<Figure size 576x360 with 2 Axes>"
      ]
     },
     "metadata": {
      "needs_background": "light"
     },
     "output_type": "display_data"
    }
   ],
   "source": [
    "# adjusted binning based on efficiency / number of signal events per bin \n",
    "\n",
    "importlib.reload(smear_plotter)\n",
    "from smear_plotter import *\n",
    "\n",
    "bins = [0.05, 0.35, 0.55, 0.75, 0.95, 1.25, 1.75, 3]\n",
    "\n",
    "plot_signal_and_eff(selected, overlay_df, signal, bins)"
   ]
  },
  {
   "cell_type": "markdown",
   "metadata": {},
   "source": [
    "## smearing matrix "
   ]
  },
  {
   "cell_type": "code",
   "execution_count": 16,
   "metadata": {},
   "outputs": [
    {
     "data": {
      "image/png": "[encoded data removed]",
      "text/plain": [
       "<Figure size 720x432 with 2 Axes>"
      ]
     },
     "metadata": {
      "needs_background": "light"
     },
     "output_type": "display_data"
    }
   ],
   "source": [
    "# smearing matrix between true & reco values\n",
    "plot_smearing(selected, signal, true_var, reco_var, bins)\n"
   ]
  },
  {
   "cell_type": "code",
   "execution_count": 17,
   "metadata": {},
   "outputs": [
    {
     "data": {
      "image/png": "[encoded data removed]",
      "text/plain": [
       "<Figure size 720x432 with 2 Axes>"
      ]
     },
     "metadata": {
      "needs_background": "light"
     },
     "output_type": "display_data"
    }
   ],
   "source": [
    "# column-normalized smearing matrix \n",
    "plot_smearing(selected, signal, true_var, reco_var, bins, norm=True)"
   ]
  },
  {
   "cell_type": "code",
   "execution_count": null,
   "metadata": {},
   "outputs": [],
   "source": []
  },
  {
   "cell_type": "code",
   "execution_count": null,
   "metadata": {},
   "outputs": [],
   "source": []
  }
 ],
 "metadata": {
  "kernelspec": {
   "display_name": "Python 3",
   "language": "python",
   "name": "python3"
  },
  "language_info": {
   "codemirror_mode": {
    "name": "ipython",
    "version": 3
   },
   "file_extension": ".py",
   "mimetype": "text/x-python",
   "name": "python",
   "nbconvert_exporter": "python",
   "pygments_lexer": "ipython3",
   "version": "3.7.6"
  }
 },
 "nbformat": 4,
 "nbformat_minor": 4
}
