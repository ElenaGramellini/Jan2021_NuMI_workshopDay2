{
 "cells": [
  {
   "cell_type": "markdown",
   "metadata": {},
   "source": [
    "## Setup "
   ]
  },
  {
   "cell_type": "code",
   "execution_count": null,
   "metadata": {},
   "outputs": [],
   "source": [
    "import sys\n",
    "from scipy.stats import norm\n",
    "from matplotlib.colors import LogNorm\n",
    "\n",
    "import importlib\n",
    "import uproot\n",
    "\n",
    "import numpy as np\n",
    "import math\n",
    "import matplotlib.pyplot as plt\n",
    "\n",
    "import pandas as pd\n",
    "\n",
    "import awkward\n"
   ]
  },
  {
   "cell_type": "code",
   "execution_count": null,
   "metadata": {},
   "outputs": [],
   "source": [
    "# calculations & plotting functions ported to backend script for readability \n",
    "import smear_plotter\n",
    "importlib.reload(smear_plotter)\n",
    "from smear_plotter import *"
   ]
  },
  {
   "cell_type": "code",
   "execution_count": null,
   "metadata": {},
   "outputs": [],
   "source": [
    "# grab NuMI FHC reduced ntuples with nue preselection: \n",
    "# slice ID, containment, & michel electron veto cuts already applied\n",
    "\n",
    "fold = \"nuselection\"\n",
    "tree = \"NeutrinoSelectionFilter\"\n",
    "\n",
    "path = '/uboone/data/users/elenag/searchingfornues/NuMISkimmedNtuples/Run1SliceAndSelected/'\n",
    "FHC_OVRLY = 'prodgenie_numi_uboone_overlay_fhc_mcc9_run1_v28_all_snapshot'\n",
    "\n",
    "overlay = uproot.open(path+FHC_OVRLY+\".root\")[fold][tree]"
   ]
  },
  {
   "cell_type": "code",
   "execution_count": null,
   "metadata": {},
   "outputs": [],
   "source": [
    "# create pandas dataframe \n",
    "\n",
    "variables = [\n",
    "    \"selected\", \"nu_pdg\", \"shr_theta\", \"true_e_visible\", \n",
    "    \"trk_score_v\", \"shr_tkfit_dedx_Y\", \"ccnc\", \"n_tracks_contained\", \n",
    "    \"reco_nu_vtx_sce_x\",\"reco_nu_vtx_sce_y\",\"reco_nu_vtx_sce_z\",\n",
    "    \"shr_tkfit_npointsvalid\",\"shr_tkfit_npoints\",\n",
    "    \"nproton\", \"nu_e\", \"n_showers_contained\", \"nu_purity_from_pfp\", \n",
    "    \"shr_score\", \n",
    "    \"trk_energy\", \"tksh_distance\", \"tksh_angle\",\n",
    "    \"npi0\", \"topological_score\",\n",
    "    \"reco_nu_vtx_x\", \"reco_nu_vtx_y\", \"reco_nu_vtx_z\", \"contained_fraction\",\n",
    "    \"shrsubclusters0\", \"shrsubclusters1\", \"shrsubclusters2\",\n",
    "    \"true_nu_vtx_x\", \"true_nu_vtx_y\" , \"true_nu_vtx_z\", \n",
    "    \"npion\", \"shr_energy_cali\", \n",
    "    \"flash_time\", \"shrmoliereavg\", \n",
    "    \"shr_tkfit_npointsvalid\",\"shr_tkfit_npoints\", \"elec_e\"\n",
    "]\n",
    "\n",
    "overlay_df = overlay.pandas.df(variables, flatten=False)\n"
   ]
  },
  {
   "cell_type": "code",
   "execution_count": null,
   "metadata": {},
   "outputs": [],
   "source": [
    "# add track PID score \n",
    "overlay_df = track_PID_score(overlay, overlay_df)"
   ]
  },
  {
   "cell_type": "code",
   "execution_count": null,
   "metadata": {},
   "outputs": [],
   "source": [
    "overlay_df"
   ]
  },
  {
   "cell_type": "markdown",
   "metadata": {},
   "source": [
    "## Defining signal & applying a selection"
   ]
  },
  {
   "cell_type": "code",
   "execution_count": null,
   "metadata": {},
   "outputs": [],
   "source": [
    "# define fiducial volume (FV)\n",
    "true_in_fv_query = \"10<=true_nu_vtx_x<=246 and -106<=true_nu_vtx_y<=106 and 10<=true_nu_vtx_z<=1026\"\n",
    "reco_in_fv_query = \"10<=reco_nu_vtx_sce_x<=246 and -106<=reco_nu_vtx_sce_y<=106 and 10<=reco_nu_vtx_sce_z<=1026\"\n",
    "\n",
    "# define signal query \n",
    "signal = '(nu_pdg==12 and ccnc==0 and nproton>0 and npion==0 and npi0==0)'"
   ]
  },
  {
   "cell_type": "code",
   "execution_count": null,
   "metadata": {},
   "outputs": [],
   "source": [
    "# exclusive electron neutrino selection (CC 1eNp)\n",
    "\n",
    "# FV cut \n",
    "SEL_QUERY = reco_in_fv_query\n",
    "\n",
    "# signal topology: 1eNp \n",
    "SEL_QUERY += ' and n_showers_contained==1'\n",
    "SEL_QUERY += ' and n_tracks_contained>0'\n",
    "\n",
    "# numu CC rejection \n",
    "SEL_QUERY += ' and shr_score<0.125'\n",
    "SEL_QUERY += ' and shrmoliereavg < 8'\n",
    "SEL_QUERY += ' and trkpid<0'\n",
    "\n",
    "# pi0 rejection \n",
    "SEL_QUERY += ' and shr_tkfit_dedx_Y<4'\n",
    "SEL_QUERY += ' and tksh_distance<5'"
   ]
  },
  {
   "cell_type": "code",
   "execution_count": null,
   "metadata": {},
   "outputs": [],
   "source": [
    "selected = overlay_df.query(SEL_QUERY)\n",
    "\n",
    "print(str(len(selected.query(signal)))+' signal events were selected')"
   ]
  },
  {
   "cell_type": "markdown",
   "metadata": {},
   "source": [
    "## Selection efficiency across electron energy "
   ]
  },
  {
   "cell_type": "code",
   "execution_count": null,
   "metadata": {},
   "outputs": [],
   "source": [
    "# true electron energy \n",
    "true_var = 'elec_e'\n",
    "\n",
    "# reconstructed shower energy \n",
    "reco_var = 'shr_energy_cali'"
   ]
  },
  {
   "cell_type": "code",
   "execution_count": null,
   "metadata": {},
   "outputs": [],
   "source": [
    "# detector resolution of selected signal events\n",
    "det_res = np.array((selected.query(signal)[true_var]-selected.query(signal)[reco_var]))\n",
    "det_res = det_res/selected.query(signal)[true_var]\n",
    "\n",
    "# variance \n",
    "mu = sum(det_res) / len(det_res) \n",
    "sigma = (sum([((x - mu) ** 2) for x in det_res]) / len(det_res))**0.5\n",
    "\n",
    "print('mu == '+str(round(mu, 3)))\n",
    "print('sigma == '+str(round(sigma, 3)))\n",
    "\n",
    "# plot\n",
    "plot_det_res(det_res, mu, sigma)\n",
    "\n",
    "# NOTE: sigma is the smallest bin width we should have"
   ]
  },
  {
   "cell_type": "code",
   "execution_count": null,
   "metadata": {},
   "outputs": [],
   "source": [
    "# let's try a constant bin size \n",
    "\n",
    "bins = [0.05, 0.25, 0.45, 0.65, 0.85, 1.05, 1.25, 1.45, 1.65, 1.85, 2.05, 2.25, 2.45, 2.65, 2.85, 3.05]\n",
    "\n",
    "plot_signal_and_eff(selected, overlay_df, signal, bins)\n",
    "\n",
    "# NOTE: this efficiency is relative to the number of signal events passing our preselection \n",
    "# (since we are using the reduced ntuples)"
   ]
  },
  {
   "cell_type": "code",
   "execution_count": null,
   "metadata": {},
   "outputs": [],
   "source": [
    "# the efficiency is quite varied, & the number of signal events in higher bins is low \n",
    "# try an adjusted binning based on these observations\n",
    "\n",
    "bins = [0.05, 0.35, 0.55, 0.75, 0.95, 1.15, 1.65, 3.05]\n",
    "plot_signal_and_eff(selected, overlay_df, signal, bins)"
   ]
  },
  {
   "cell_type": "markdown",
   "metadata": {},
   "source": [
    "## Smearing matrix of the electron (shower) energy"
   ]
  },
  {
   "cell_type": "code",
   "execution_count": null,
   "metadata": {},
   "outputs": [],
   "source": [
    "# relationship between true & reco values\n",
    "plot_smearing(selected, signal, true_var, reco_var, bins)"
   ]
  },
  {
   "cell_type": "code",
   "execution_count": null,
   "metadata": {},
   "outputs": [],
   "source": [
    "# column-normalized \n",
    "plot_smearing(selected, signal, true_var, reco_var, bins, norm=True)"
   ]
  },
  {
   "cell_type": "code",
   "execution_count": null,
   "metadata": {},
   "outputs": [],
   "source": []
  }
 ],
 "metadata": {
  "kernelspec": {
   "display_name": "Python 3",
   "language": "python",
   "name": "python3"
  },
  "language_info": {
   "codemirror_mode": {
    "name": "ipython",
    "version": 3
   },
   "file_extension": ".py",
   "mimetype": "text/x-python",
   "name": "python",
   "nbconvert_exporter": "python",
   "pygments_lexer": "ipython3",
   "version": "3.7.3"
  }
 },
 "nbformat": 4,
 "nbformat_minor": 4
}
